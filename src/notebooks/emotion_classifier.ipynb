{
 "cells": [
  {
   "cell_type": "markdown",
   "metadata": {},
   "source": [
    "# Emotion Classifier"
   ]
  },
  {
   "cell_type": "code",
   "execution_count": null,
   "metadata": {},
   "outputs": [],
   "source": [
    "import numpy as np\n",
    "import pandas as pd\n",
    "import matplotlib.pyplot as plt\n",
    "from tensorflow.keras.optimizers import Adam\n",
    "from tensorflow.keras.models import Sequential, model_from_json\n",
    "from tensorflow.keras.layers import Conv2D, MaxPooling2D, Dense, Flatten, Dropout, BatchNormalization, Activation\n",
    "from tensorflow.keras.preprocessing.image import ImageDataGenerator\n",
    "from tensorflow.keras.callbacks import EarlyStopping\n",
    "from sklearn.model_selection import train_test_split\n",
    "from math import ceil"
   ]
  },
  {
   "cell_type": "code",
   "execution_count": null,
   "metadata": {},
   "outputs": [],
   "source": [
    "train = True\n",
    "model_path = '/kaggle/working/'\n",
    "save_model_name = 'model.h5'\n",
    "load_model_name = None"
   ]
  },
  {
   "cell_type": "code",
   "execution_count": null,
   "metadata": {},
   "outputs": [],
   "source": [
    "data = pd.read_csv('../input/fer2013/fer2013.csv')\n",
    "labels = pd.read_csv('../input/fer2013/fer2013new.csv')\n",
    "\n",
    "orig_class_names = ['neutral', 'happiness', 'surprise', 'sadness', 'anger', 'disgust', 'fear', 'contempt',\n",
    "                    'unknown', 'NF']\n",
    "\n",
    "n_samples = len(data)\n",
    "w = 48\n",
    "h = 48\n",
    "\n",
    "y = np.array(labels[orig_class_names])\n",
    "X = np.zeros((n_samples, w, h, 1))\n",
    "for i in range(n_samples):\n",
    "    X[i] = np.fromstring(data['pixels'][i], dtype=int, sep=' ').reshape((h, w, 1))"
   ]
  },
  {
   "cell_type": "code",
   "execution_count": null,
   "metadata": {},
   "outputs": [],
   "source": [
    "orig_class_names = ['neutral', 'happiness', 'surprise', 'sadness', 'anger', 'disgust', 'fear', 'contempt', \n",
    "                    'unknown', 'NF']\n",
    "\n",
    "# Using mask to remove unknown or NF images\n",
    "y_mask = y.argmax(axis=-1)\n",
    "mask = y_mask < orig_class_names.index('unknown')\n",
    "X = X[mask]\n",
    "y = y[mask]\n",
    "\n",
    "# Convert to probabilities between 0 and 1\n",
    "y = y[:, :-2] * 0.1\n",
    "\n",
    "# Add contempt to neutral and remove it\n",
    "y[:, 0] += y[:, 7]\n",
    "y = y[:, :7]\n",
    "\n",
    "# Normalize image vectors\n",
    "X = X / 255.0"
   ]
  },
  {
   "cell_type": "code",
   "execution_count": null,
   "metadata": {},
   "outputs": [],
   "source": [
    "test_size = ceil(len(X) * 0.1)\n",
    "\n",
    "# Split Data\n",
    "x_train, x_test, y_train, y_test = train_test_split(X, y, test_size=test_size, random_state=42)\n",
    "x_train, x_val, y_train, y_val = train_test_split(x_train, y_train, test_size=test_size, random_state=42)"
   ]
  },
  {
   "cell_type": "code",
   "execution_count": null,
   "metadata": {},
   "outputs": [],
   "source": [
    "shift = 0.1\n",
    "datagen = ImageDataGenerator(\n",
    "    rotation_range=20,\n",
    "    horizontal_flip=True,\n",
    "    height_shift_range=shift,\n",
    "    width_shift_range=shift)\n",
    "datagen.fit(x_train)"
   ]
  },
  {
   "cell_type": "code",
   "execution_count": null,
   "metadata": {},
   "outputs": [],
   "source": [
    "it = datagen.flow(x_train, y_train, batch_size=1)\n",
    "plt.figure(figsize=(10, 7))\n",
    "for i in range(25):\n",
    "    plt.subplot(5, 5, i + 1)\n",
    "    plt.xticks([])\n",
    "    plt.yticks([])\n",
    "    plt.grid(False)\n",
    "    plt.imshow(it.next()[0][0], cmap='gray')\n",
    "\n",
    "plt.show()"
   ]
  },
  {
   "cell_type": "code",
   "execution_count": null,
   "metadata": {},
   "outputs": [],
   "source": [
    "epochs = 300\n",
    "batch_size = 64\n",
    "\n",
    "print(\"X_train shape: \" + str(x_train.shape))\n",
    "print(\"Y_train shape: \" + str(y_train.shape))\n",
    "print(\"X_test shape: \" + str(x_test.shape))\n",
    "print(\"Y_test shape: \" + str(y_test.shape))\n",
    "print(\"X_val shape: \" + str(x_val.shape))\n",
    "print(\"Y_val shape: \" + str(y_val.shape))"
   ]
  },
  {
   "cell_type": "code",
   "execution_count": null,
   "metadata": {},
   "outputs": [],
   "source": [
    "train_progress = None\n",
    "\n",
    "if train:\n",
    "    early_stopping = EarlyStopping(\n",
    "        monitor='accuracy',\n",
    "        min_delta=0.00005,\n",
    "        patience=32,\n",
    "        verbose=1,\n",
    "        restore_best_weights=True\n",
    "    )\n",
    "    \n",
    "    train_progress = model.fit(datagen.flow(x_train, y_train, batch_size=batch_size), epochs=epochs, \n",
    "                               steps_per_epoch=len(x_train) // batch_size, validation_data=(x_val, y_val), verbose=2,\n",
    "                               callbacks=[early_stopping])\n",
    "    \n",
    "    test_loss, test_acc = model.evaluate(x_test, y_test, batch_size=batch_size)"
   ]
  },
  {
   "cell_type": "code",
   "execution_count": null,
   "metadata": {},
   "outputs": [],
   "source": [
    "if train_progress:\n",
    "    fig, ax = plt.subplots(1, 2)\n",
    "    train_acc = train_progress.history['accuracy']\n",
    "    train_loss = train_progress.history['loss']\n",
    "    fig.set_size_inches(12, 4)\n",
    "\n",
    "    ax[0].plot(train_progress.history['accuracy'])\n",
    "    ax[0].plot(train_progress.history['val_accuracy'])\n",
    "    ax[0].set_title('Training Accuracy vs Validation Accuracy')\n",
    "    ax[0].set_ylabel('Accuracy')\n",
    "    ax[0].set_xlabel('Epoch')\n",
    "    ax[0].legend(['Train', 'Validation'], loc='upper left')\n",
    "\n",
    "    ax[1].plot(train_progress.history['loss'])\n",
    "    ax[1].plot(train_progress.history['val_loss'])\n",
    "    ax[1].set_title('Training Loss vs Validation Loss')\n",
    "    ax[1].set_ylabel('Loss')\n",
    "    ax[1].set_xlabel('Epoch')\n",
    "    ax[1].legend(['Train', 'Validation'], loc='upper left')\n",
    "\n",
    "    plt.show()"
   ]
  },
  {
   "cell_type": "code",
   "execution_count": null,
   "metadata": {},
   "outputs": [],
   "source": [
    "model.save(model_path + save_model_name)"
   ]
  }
 ],
 "metadata": {
  "interpreter": {
   "hash": "a81074a20de514d01a6b8405d74b5d47c08c0bcfcb6b43ac0bbe81b83388cdb1"
  },
  "kernelspec": {
   "display_name": "Python 3.9.6 64-bit ('dl': conda)",
   "language": "python",
   "name": "python3"
  },
  "language_info": {
   "name": "python",
   "version": "3.9.6"
  },
  "orig_nbformat": 4
 },
 "nbformat": 4,
 "nbformat_minor": 2
}
