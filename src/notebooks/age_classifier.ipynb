{
 "cells": [
  {
   "cell_type": "markdown",
   "metadata": {},
   "source": [
    "# Age Classifier"
   ]
  },
  {
   "cell_type": "code",
   "execution_count": 1,
   "metadata": {},
   "outputs": [],
   "source": [
    "import os\n",
    "import glob\n",
    "from collections import defaultdict\n",
    "from PIL import Image"
   ]
  },
  {
   "cell_type": "code",
   "execution_count": 2,
   "metadata": {},
   "outputs": [],
   "source": [
    "path = '../data/face_age'"
   ]
  },
  {
   "cell_type": "code",
   "execution_count": 3,
   "metadata": {},
   "outputs": [],
   "source": [
    "images = defaultdict()\n",
    "\n",
    "for subfolder in os.listdir(path):\n",
    "    images_per_folder = glob.glob(f'{path}/{subfolder}/*.png')\n",
    "    number_of_images = len(images_per_folder)\n",
    "    tmp = []\n",
    "\n",
    "    if number_of_images > 175:\n",
    "        for filename in images_per_folder[:175]:\n",
    "            image = Image.open(filename)\n",
    "            tmp.append(image)\n",
    "    else:\n",
    "        for filename in images_per_folder:\n",
    "            image = Image.open(filename)\n",
    "            tmp.append(image)\n",
    "\n",
    "    images[subfolder] = tmp\n",
    "    tmp = []"
   ]
  }
 ],
 "metadata": {
  "interpreter": {
   "hash": "a81074a20de514d01a6b8405d74b5d47c08c0bcfcb6b43ac0bbe81b83388cdb1"
  },
  "kernelspec": {
   "display_name": "Python 3.9.6 64-bit ('dl': conda)",
   "language": "python",
   "name": "python3"
  },
  "language_info": {
   "codemirror_mode": {
    "name": "ipython",
    "version": 3
   },
   "file_extension": ".py",
   "mimetype": "text/x-python",
   "name": "python",
   "nbconvert_exporter": "python",
   "pygments_lexer": "ipython3",
   "version": "3.9.6"
  },
  "orig_nbformat": 4
 },
 "nbformat": 4,
 "nbformat_minor": 2
}
